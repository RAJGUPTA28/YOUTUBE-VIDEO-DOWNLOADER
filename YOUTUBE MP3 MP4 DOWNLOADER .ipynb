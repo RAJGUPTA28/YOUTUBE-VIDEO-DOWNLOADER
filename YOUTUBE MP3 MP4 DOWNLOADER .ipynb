{
 "cells": [
  {
   "cell_type": "markdown",
   "id": "893f2b9c",
   "metadata": {},
   "source": [
    "# youtube video downloader"
   ]
  },
  {
   "cell_type": "code",
   "execution_count": 1,
   "id": "4991d049",
   "metadata": {},
   "outputs": [],
   "source": [
    "from tkinter import *\n",
    "from pytube import YouTube\n",
    "import os "
   ]
  },
  {
   "cell_type": "code",
   "execution_count": 53,
   "id": "d211d770",
   "metadata": {},
   "outputs": [],
   "source": [
    "root = Tk()\n",
    "root.geometry('500x300')\n",
    "root.resizable(False,False)\n",
    "root.title(' VIDEO DOWNLOADER')\n",
    "\n",
    "\n",
    "\n",
    "def downloadvid():\n",
    "    url = YouTube(str(videolink.get()))\n",
    "    \n",
    "                  \n",
    "    video = url.streams.first()\n",
    "    \n",
    "    currfile = video.download()\n",
    "    name , ext = os.path.splitext(currfile)\n",
    "    newfile = name +'.mp4'\n",
    "    os.rename(currfile , newfile) \n",
    "    done = Label(root,text =\"DOWNLOADED VIDEO\",padx = 4,font = 'arial 15' ,bg ='yellow')\n",
    "    done.place(x=140 ,y = 250)\n",
    "    \n",
    "    \n",
    "\n",
    "def downloadaudio():\n",
    "    url = YouTube(str(videolink.get()))\n",
    "    audio = url.streams.filter(only_audio = True).first()\n",
    "    \n",
    "    currfile = audio.download()\n",
    "    name , ext = os.path.splitext(currfile)\n",
    "    newfile = name +'.mp3'\n",
    "    os.rename(currfile , newfile) \n",
    "    done = Label(root,text =\"DOWNLOADED AUDIO\",padx = 4,font = 'arial 15',bg ='yellow')\n",
    "    done.place(x=140 ,y = 250)  \n",
    "    \n",
    "\n",
    "\n",
    "    \n",
    "\n",
    "\n",
    "#heading block\n",
    "Label(root,text = \"Youtube video Downloader\" ,font = 'italic 20 bold', bg = 'red' ).pack()\n",
    "\n",
    "\n",
    "\n",
    "\n",
    "#video paste here block\n",
    "\n",
    "videolink = StringVar()\n",
    "pastesection = Label(root , text = \"Paste link here\" ,font = \"arial 15 bold\")\n",
    "pastesection.place(x = 170,y = 110)\n",
    "\n",
    "linkInput = Entry(root,width = 70 ,textvariable = videolink)\n",
    "linkInput.place(x= 32,y=90)\n",
    "\n",
    "\n",
    "Button(root , text = \"DOWNLOAD MP4\",font = \"arial 15 bold\",bg ='pale green' ,padx = 4,command = downloadvid).place(x=160 ,y = 150)\n",
    "\n",
    "Button(root , text = \"DOWNLOAD MP3\",font = \"arial 15 bold\",bg ='blue' ,padx = 4,command = downloadaudio).place(x=160 ,y = 200)\n",
    "\n",
    "\n",
    "\n",
    "\n",
    "    \n",
    "        \n",
    "        \n",
    "        \n",
    "    \n",
    "        \n",
    "\n",
    "root.mainloop()\n",
    "\n"
   ]
  },
  {
   "cell_type": "code",
   "execution_count": null,
   "id": "ae4e7288",
   "metadata": {},
   "outputs": [],
   "source": []
  }
 ],
 "metadata": {
  "kernelspec": {
   "display_name": "Python 3 (ipykernel)",
   "language": "python",
   "name": "python3"
  },
  "language_info": {
   "codemirror_mode": {
    "name": "ipython",
    "version": 3
   },
   "file_extension": ".py",
   "mimetype": "text/x-python",
   "name": "python",
   "nbconvert_exporter": "python",
   "pygments_lexer": "ipython3",
   "version": "3.9.7"
  }
 },
 "nbformat": 4,
 "nbformat_minor": 5
}
